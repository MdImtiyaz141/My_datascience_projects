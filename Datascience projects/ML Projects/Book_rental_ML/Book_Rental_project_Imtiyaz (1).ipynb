{
 "cells": [
  {
   "cell_type": "code",
   "execution_count": 1,
   "id": "5296495b",
   "metadata": {},
   "outputs": [],
   "source": [
    "import numpy as np\n",
    "import pandas as pd\n",
    "import matplotlib.pyplot as plt\n",
    "import seaborn as sns"
   ]
  },
  {
   "cell_type": "code",
   "execution_count": 2,
   "id": "d491e9dd",
   "metadata": {},
   "outputs": [],
   "source": [
    "import warnings \n",
    "warnings.filterwarnings('ignore')"
   ]
  },
  {
   "cell_type": "code",
   "execution_count": 3,
   "id": "e854f411",
   "metadata": {},
   "outputs": [],
   "source": [
    "user_df = pd.read_csv('BX-Users.csv',encoding='latin-1')"
   ]
  },
  {
   "cell_type": "code",
   "execution_count": 4,
   "id": "371f01c6",
   "metadata": {},
   "outputs": [
    {
     "data": {
      "text/html": [
       "<div>\n",
       "<style scoped>\n",
       "    .dataframe tbody tr th:only-of-type {\n",
       "        vertical-align: middle;\n",
       "    }\n",
       "\n",
       "    .dataframe tbody tr th {\n",
       "        vertical-align: top;\n",
       "    }\n",
       "\n",
       "    .dataframe thead th {\n",
       "        text-align: right;\n",
       "    }\n",
       "</style>\n",
       "<table border=\"1\" class=\"dataframe\">\n",
       "  <thead>\n",
       "    <tr style=\"text-align: right;\">\n",
       "      <th></th>\n",
       "      <th>user_id</th>\n",
       "      <th>Location</th>\n",
       "      <th>Age</th>\n",
       "    </tr>\n",
       "  </thead>\n",
       "  <tbody>\n",
       "    <tr>\n",
       "      <th>0</th>\n",
       "      <td>1</td>\n",
       "      <td>nyc, new york, usa</td>\n",
       "      <td>NaN</td>\n",
       "    </tr>\n",
       "    <tr>\n",
       "      <th>1</th>\n",
       "      <td>2</td>\n",
       "      <td>stockton, california, usa</td>\n",
       "      <td>18.0</td>\n",
       "    </tr>\n",
       "    <tr>\n",
       "      <th>2</th>\n",
       "      <td>3</td>\n",
       "      <td>moscow, yukon territory, russia</td>\n",
       "      <td>NaN</td>\n",
       "    </tr>\n",
       "    <tr>\n",
       "      <th>3</th>\n",
       "      <td>4</td>\n",
       "      <td>porto, v.n.gaia, portugal</td>\n",
       "      <td>17.0</td>\n",
       "    </tr>\n",
       "    <tr>\n",
       "      <th>4</th>\n",
       "      <td>5</td>\n",
       "      <td>farnborough, hants, united kingdom</td>\n",
       "      <td>NaN</td>\n",
       "    </tr>\n",
       "    <tr>\n",
       "      <th>...</th>\n",
       "      <td>...</td>\n",
       "      <td>...</td>\n",
       "      <td>...</td>\n",
       "    </tr>\n",
       "    <tr>\n",
       "      <th>278854</th>\n",
       "      <td>278854</td>\n",
       "      <td>portland, oregon, usa</td>\n",
       "      <td>NaN</td>\n",
       "    </tr>\n",
       "    <tr>\n",
       "      <th>278855</th>\n",
       "      <td>278855</td>\n",
       "      <td>tacoma, washington, united kingdom</td>\n",
       "      <td>50.0</td>\n",
       "    </tr>\n",
       "    <tr>\n",
       "      <th>278856</th>\n",
       "      <td>278856</td>\n",
       "      <td>brampton, ontario, canada</td>\n",
       "      <td>NaN</td>\n",
       "    </tr>\n",
       "    <tr>\n",
       "      <th>278857</th>\n",
       "      <td>278857</td>\n",
       "      <td>knoxville, tennessee, usa</td>\n",
       "      <td>NaN</td>\n",
       "    </tr>\n",
       "    <tr>\n",
       "      <th>278858</th>\n",
       "      <td>278858</td>\n",
       "      <td>dublin, n/a, ireland</td>\n",
       "      <td>NaN</td>\n",
       "    </tr>\n",
       "  </tbody>\n",
       "</table>\n",
       "<p>278859 rows × 3 columns</p>\n",
       "</div>"
      ],
      "text/plain": [
       "       user_id                            Location   Age\n",
       "0            1                  nyc, new york, usa   NaN\n",
       "1            2           stockton, california, usa  18.0\n",
       "2            3     moscow, yukon territory, russia   NaN\n",
       "3            4           porto, v.n.gaia, portugal  17.0\n",
       "4            5  farnborough, hants, united kingdom   NaN\n",
       "...        ...                                 ...   ...\n",
       "278854  278854               portland, oregon, usa   NaN\n",
       "278855  278855  tacoma, washington, united kingdom  50.0\n",
       "278856  278856           brampton, ontario, canada   NaN\n",
       "278857  278857           knoxville, tennessee, usa   NaN\n",
       "278858  278858                dublin, n/a, ireland   NaN\n",
       "\n",
       "[278859 rows x 3 columns]"
      ]
     },
     "execution_count": 4,
     "metadata": {},
     "output_type": "execute_result"
    }
   ],
   "source": [
    "user_df"
   ]
  },
  {
   "cell_type": "code",
   "execution_count": 5,
   "id": "a3d47455",
   "metadata": {},
   "outputs": [
    {
     "data": {
      "text/plain": [
       "(278859, 3)"
      ]
     },
     "execution_count": 5,
     "metadata": {},
     "output_type": "execute_result"
    }
   ],
   "source": [
    "user_df.shape"
   ]
  },
  {
   "cell_type": "code",
   "execution_count": 6,
   "id": "2b429544",
   "metadata": {},
   "outputs": [
    {
     "name": "stdout",
     "output_type": "stream",
     "text": [
      "<class 'pandas.core.frame.DataFrame'>\n",
      "RangeIndex: 278859 entries, 0 to 278858\n",
      "Data columns (total 3 columns):\n",
      " #   Column    Non-Null Count   Dtype  \n",
      "---  ------    --------------   -----  \n",
      " 0   user_id   278859 non-null  object \n",
      " 1   Location  278858 non-null  object \n",
      " 2   Age       168096 non-null  float64\n",
      "dtypes: float64(1), object(2)\n",
      "memory usage: 6.4+ MB\n"
     ]
    }
   ],
   "source": [
    "user_df.info()"
   ]
  },
  {
   "cell_type": "code",
   "execution_count": 7,
   "id": "7bd45b56",
   "metadata": {},
   "outputs": [],
   "source": [
    "books_df =  pd.read_csv('BX-Books.csv',encoding='latin-1')"
   ]
  },
  {
   "cell_type": "code",
   "execution_count": 8,
   "id": "60baef17",
   "metadata": {},
   "outputs": [
    {
     "data": {
      "text/html": [
       "<div>\n",
       "<style scoped>\n",
       "    .dataframe tbody tr th:only-of-type {\n",
       "        vertical-align: middle;\n",
       "    }\n",
       "\n",
       "    .dataframe tbody tr th {\n",
       "        vertical-align: top;\n",
       "    }\n",
       "\n",
       "    .dataframe thead th {\n",
       "        text-align: right;\n",
       "    }\n",
       "</style>\n",
       "<table border=\"1\" class=\"dataframe\">\n",
       "  <thead>\n",
       "    <tr style=\"text-align: right;\">\n",
       "      <th></th>\n",
       "      <th>isbn</th>\n",
       "      <th>book_title</th>\n",
       "      <th>book_author</th>\n",
       "      <th>year_of_publication</th>\n",
       "      <th>publisher</th>\n",
       "    </tr>\n",
       "  </thead>\n",
       "  <tbody>\n",
       "    <tr>\n",
       "      <th>0</th>\n",
       "      <td>195153448</td>\n",
       "      <td>Classical Mythology</td>\n",
       "      <td>Mark P. O. Morford</td>\n",
       "      <td>2002</td>\n",
       "      <td>Oxford University Press</td>\n",
       "    </tr>\n",
       "    <tr>\n",
       "      <th>1</th>\n",
       "      <td>2005018</td>\n",
       "      <td>Clara Callan</td>\n",
       "      <td>Richard Bruce Wright</td>\n",
       "      <td>2001</td>\n",
       "      <td>HarperFlamingo Canada</td>\n",
       "    </tr>\n",
       "    <tr>\n",
       "      <th>2</th>\n",
       "      <td>60973129</td>\n",
       "      <td>Decision in Normandy</td>\n",
       "      <td>Carlo D'Este</td>\n",
       "      <td>1991</td>\n",
       "      <td>HarperPerennial</td>\n",
       "    </tr>\n",
       "    <tr>\n",
       "      <th>3</th>\n",
       "      <td>374157065</td>\n",
       "      <td>Flu: The Story of the Great Influenza Pandemic...</td>\n",
       "      <td>Gina Bari Kolata</td>\n",
       "      <td>1999</td>\n",
       "      <td>Farrar Straus Giroux</td>\n",
       "    </tr>\n",
       "    <tr>\n",
       "      <th>4</th>\n",
       "      <td>393045218</td>\n",
       "      <td>The Mummies of Urumchi</td>\n",
       "      <td>E. J. W. Barber</td>\n",
       "      <td>1999</td>\n",
       "      <td>W. W. Norton &amp;amp; Company</td>\n",
       "    </tr>\n",
       "  </tbody>\n",
       "</table>\n",
       "</div>"
      ],
      "text/plain": [
       "        isbn                                         book_title  \\\n",
       "0  195153448                                Classical Mythology   \n",
       "1    2005018                                       Clara Callan   \n",
       "2   60973129                               Decision in Normandy   \n",
       "3  374157065  Flu: The Story of the Great Influenza Pandemic...   \n",
       "4  393045218                             The Mummies of Urumchi   \n",
       "\n",
       "            book_author year_of_publication                   publisher  \n",
       "0    Mark P. O. Morford                2002     Oxford University Press  \n",
       "1  Richard Bruce Wright                2001       HarperFlamingo Canada  \n",
       "2          Carlo D'Este                1991             HarperPerennial  \n",
       "3      Gina Bari Kolata                1999        Farrar Straus Giroux  \n",
       "4       E. J. W. Barber                1999  W. W. Norton &amp; Company  "
      ]
     },
     "execution_count": 8,
     "metadata": {},
     "output_type": "execute_result"
    }
   ],
   "source": [
    "books_df.head()"
   ]
  },
  {
   "cell_type": "code",
   "execution_count": 9,
   "id": "6225f857",
   "metadata": {},
   "outputs": [
    {
     "data": {
      "text/plain": [
       "(271379, 5)"
      ]
     },
     "execution_count": 9,
     "metadata": {},
     "output_type": "execute_result"
    }
   ],
   "source": [
    "books_df.shape"
   ]
  },
  {
   "cell_type": "markdown",
   "id": "ddf1e1aa",
   "metadata": {},
   "source": [
    "# Clean up NaN values"
   ]
  },
  {
   "cell_type": "code",
   "execution_count": 10,
   "id": "ca5e4a78",
   "metadata": {},
   "outputs": [
    {
     "data": {
      "text/plain": [
       "user_id          0\n",
       "Location         1\n",
       "Age         110763\n",
       "dtype: int64"
      ]
     },
     "execution_count": 10,
     "metadata": {},
     "output_type": "execute_result"
    }
   ],
   "source": [
    "user_df.isnull().sum()"
   ]
  },
  {
   "cell_type": "code",
   "execution_count": 11,
   "id": "51b5b590",
   "metadata": {},
   "outputs": [
    {
     "data": {
      "text/plain": [
       "isbn                   0\n",
       "book_title             0\n",
       "book_author            1\n",
       "year_of_publication    0\n",
       "publisher              2\n",
       "dtype: int64"
      ]
     },
     "execution_count": 11,
     "metadata": {},
     "output_type": "execute_result"
    }
   ],
   "source": [
    "books_df.isnull().sum()"
   ]
  },
  {
   "cell_type": "code",
   "execution_count": 12,
   "id": "2ced6936",
   "metadata": {},
   "outputs": [],
   "source": [
    "user_df= user_df.dropna(axis=0)"
   ]
  },
  {
   "cell_type": "code",
   "execution_count": 13,
   "id": "42b76266",
   "metadata": {},
   "outputs": [
    {
     "data": {
      "text/plain": [
       "user_id     0\n",
       "Location    0\n",
       "Age         0\n",
       "dtype: int64"
      ]
     },
     "execution_count": 13,
     "metadata": {},
     "output_type": "execute_result"
    }
   ],
   "source": [
    "user_df.isnull().sum()"
   ]
  },
  {
   "cell_type": "markdown",
   "id": "a4b3e62f",
   "metadata": {},
   "source": [
    "# Read the data where ratings are given by users"
   ]
  },
  {
   "cell_type": "code",
   "execution_count": 14,
   "id": "9e794c14",
   "metadata": {},
   "outputs": [],
   "source": [
    "books_rating_df = pd.read_csv('BX-Book-Ratings.csv',encoding='latin-1',nrows=10000)"
   ]
  },
  {
   "cell_type": "code",
   "execution_count": 15,
   "id": "eae906c7",
   "metadata": {},
   "outputs": [
    {
     "data": {
      "text/html": [
       "<div>\n",
       "<style scoped>\n",
       "    .dataframe tbody tr th:only-of-type {\n",
       "        vertical-align: middle;\n",
       "    }\n",
       "\n",
       "    .dataframe tbody tr th {\n",
       "        vertical-align: top;\n",
       "    }\n",
       "\n",
       "    .dataframe thead th {\n",
       "        text-align: right;\n",
       "    }\n",
       "</style>\n",
       "<table border=\"1\" class=\"dataframe\">\n",
       "  <thead>\n",
       "    <tr style=\"text-align: right;\">\n",
       "      <th></th>\n",
       "      <th>user_id</th>\n",
       "      <th>isbn</th>\n",
       "      <th>rating</th>\n",
       "    </tr>\n",
       "  </thead>\n",
       "  <tbody>\n",
       "    <tr>\n",
       "      <th>0</th>\n",
       "      <td>276725</td>\n",
       "      <td>034545104X</td>\n",
       "      <td>0</td>\n",
       "    </tr>\n",
       "    <tr>\n",
       "      <th>1</th>\n",
       "      <td>276726</td>\n",
       "      <td>155061224</td>\n",
       "      <td>5</td>\n",
       "    </tr>\n",
       "    <tr>\n",
       "      <th>2</th>\n",
       "      <td>276727</td>\n",
       "      <td>446520802</td>\n",
       "      <td>0</td>\n",
       "    </tr>\n",
       "    <tr>\n",
       "      <th>3</th>\n",
       "      <td>276729</td>\n",
       "      <td>052165615X</td>\n",
       "      <td>3</td>\n",
       "    </tr>\n",
       "    <tr>\n",
       "      <th>4</th>\n",
       "      <td>276729</td>\n",
       "      <td>521795028</td>\n",
       "      <td>6</td>\n",
       "    </tr>\n",
       "    <tr>\n",
       "      <th>...</th>\n",
       "      <td>...</td>\n",
       "      <td>...</td>\n",
       "      <td>...</td>\n",
       "    </tr>\n",
       "    <tr>\n",
       "      <th>9995</th>\n",
       "      <td>243</td>\n",
       "      <td>425164403</td>\n",
       "      <td>0</td>\n",
       "    </tr>\n",
       "    <tr>\n",
       "      <th>9996</th>\n",
       "      <td>243</td>\n",
       "      <td>440224764</td>\n",
       "      <td>0</td>\n",
       "    </tr>\n",
       "    <tr>\n",
       "      <th>9997</th>\n",
       "      <td>243</td>\n",
       "      <td>440225701</td>\n",
       "      <td>0</td>\n",
       "    </tr>\n",
       "    <tr>\n",
       "      <th>9998</th>\n",
       "      <td>243</td>\n",
       "      <td>440226430</td>\n",
       "      <td>0</td>\n",
       "    </tr>\n",
       "    <tr>\n",
       "      <th>9999</th>\n",
       "      <td>243</td>\n",
       "      <td>440234743</td>\n",
       "      <td>0</td>\n",
       "    </tr>\n",
       "  </tbody>\n",
       "</table>\n",
       "<p>10000 rows × 3 columns</p>\n",
       "</div>"
      ],
      "text/plain": [
       "      user_id        isbn  rating\n",
       "0      276725  034545104X       0\n",
       "1      276726   155061224       5\n",
       "2      276727   446520802       0\n",
       "3      276729  052165615X       3\n",
       "4      276729   521795028       6\n",
       "...       ...         ...     ...\n",
       "9995      243   425164403       0\n",
       "9996      243   440224764       0\n",
       "9997      243   440225701       0\n",
       "9998      243   440226430       0\n",
       "9999      243   440234743       0\n",
       "\n",
       "[10000 rows x 3 columns]"
      ]
     },
     "execution_count": 15,
     "metadata": {},
     "output_type": "execute_result"
    }
   ],
   "source": [
    "books_rating_df"
   ]
  },
  {
   "cell_type": "code",
   "execution_count": 16,
   "id": "88f3f8eb",
   "metadata": {},
   "outputs": [
    {
     "data": {
      "text/plain": [
       "(10000, 3)"
      ]
     },
     "execution_count": 16,
     "metadata": {},
     "output_type": "execute_result"
    }
   ],
   "source": [
    "books_rating_df.shape"
   ]
  },
  {
   "cell_type": "code",
   "execution_count": 17,
   "id": "c13488d9",
   "metadata": {},
   "outputs": [
    {
     "data": {
      "text/plain": [
       "user_id    0\n",
       "isbn       0\n",
       "rating     0\n",
       "dtype: int64"
      ]
     },
     "execution_count": 17,
     "metadata": {},
     "output_type": "execute_result"
    }
   ],
   "source": [
    "books_rating_df.isnull().sum()"
   ]
  },
  {
   "cell_type": "markdown",
   "id": "883dc0df",
   "metadata": {},
   "source": [
    "Merging two datasets"
   ]
  },
  {
   "cell_type": "code",
   "execution_count": 18,
   "id": "bc37685b",
   "metadata": {},
   "outputs": [],
   "source": [
    "df = pd.merge(books_df,books_rating_df, on='isbn')"
   ]
  },
  {
   "cell_type": "code",
   "execution_count": 19,
   "id": "42eeba0a",
   "metadata": {},
   "outputs": [
    {
     "data": {
      "text/html": [
       "<div>\n",
       "<style scoped>\n",
       "    .dataframe tbody tr th:only-of-type {\n",
       "        vertical-align: middle;\n",
       "    }\n",
       "\n",
       "    .dataframe tbody tr th {\n",
       "        vertical-align: top;\n",
       "    }\n",
       "\n",
       "    .dataframe thead th {\n",
       "        text-align: right;\n",
       "    }\n",
       "</style>\n",
       "<table border=\"1\" class=\"dataframe\">\n",
       "  <thead>\n",
       "    <tr style=\"text-align: right;\">\n",
       "      <th></th>\n",
       "      <th>isbn</th>\n",
       "      <th>book_title</th>\n",
       "      <th>book_author</th>\n",
       "      <th>year_of_publication</th>\n",
       "      <th>publisher</th>\n",
       "      <th>user_id</th>\n",
       "      <th>rating</th>\n",
       "    </tr>\n",
       "  </thead>\n",
       "  <tbody>\n",
       "    <tr>\n",
       "      <th>0</th>\n",
       "      <td>195153448</td>\n",
       "      <td>Classical Mythology</td>\n",
       "      <td>Mark P. O. Morford</td>\n",
       "      <td>2002</td>\n",
       "      <td>Oxford University Press</td>\n",
       "      <td>2</td>\n",
       "      <td>0</td>\n",
       "    </tr>\n",
       "    <tr>\n",
       "      <th>1</th>\n",
       "      <td>2005018</td>\n",
       "      <td>Clara Callan</td>\n",
       "      <td>Richard Bruce Wright</td>\n",
       "      <td>2001</td>\n",
       "      <td>HarperFlamingo Canada</td>\n",
       "      <td>8</td>\n",
       "      <td>5</td>\n",
       "    </tr>\n",
       "    <tr>\n",
       "      <th>2</th>\n",
       "      <td>60973129</td>\n",
       "      <td>Decision in Normandy</td>\n",
       "      <td>Carlo D'Este</td>\n",
       "      <td>1991</td>\n",
       "      <td>HarperPerennial</td>\n",
       "      <td>8</td>\n",
       "      <td>0</td>\n",
       "    </tr>\n",
       "    <tr>\n",
       "      <th>3</th>\n",
       "      <td>374157065</td>\n",
       "      <td>Flu: The Story of the Great Influenza Pandemic...</td>\n",
       "      <td>Gina Bari Kolata</td>\n",
       "      <td>1999</td>\n",
       "      <td>Farrar Straus Giroux</td>\n",
       "      <td>8</td>\n",
       "      <td>0</td>\n",
       "    </tr>\n",
       "    <tr>\n",
       "      <th>4</th>\n",
       "      <td>393045218</td>\n",
       "      <td>The Mummies of Urumchi</td>\n",
       "      <td>E. J. W. Barber</td>\n",
       "      <td>1999</td>\n",
       "      <td>W. W. Norton &amp;amp; Company</td>\n",
       "      <td>8</td>\n",
       "      <td>0</td>\n",
       "    </tr>\n",
       "  </tbody>\n",
       "</table>\n",
       "</div>"
      ],
      "text/plain": [
       "        isbn                                         book_title  \\\n",
       "0  195153448                                Classical Mythology   \n",
       "1    2005018                                       Clara Callan   \n",
       "2   60973129                               Decision in Normandy   \n",
       "3  374157065  Flu: The Story of the Great Influenza Pandemic...   \n",
       "4  393045218                             The Mummies of Urumchi   \n",
       "\n",
       "            book_author year_of_publication                   publisher  \\\n",
       "0    Mark P. O. Morford                2002     Oxford University Press   \n",
       "1  Richard Bruce Wright                2001       HarperFlamingo Canada   \n",
       "2          Carlo D'Este                1991             HarperPerennial   \n",
       "3      Gina Bari Kolata                1999        Farrar Straus Giroux   \n",
       "4       E. J. W. Barber                1999  W. W. Norton &amp; Company   \n",
       "\n",
       "   user_id  rating  \n",
       "0        2       0  \n",
       "1        8       5  \n",
       "2        8       0  \n",
       "3        8       0  \n",
       "4        8       0  "
      ]
     },
     "execution_count": 19,
     "metadata": {},
     "output_type": "execute_result"
    }
   ],
   "source": [
    "df.head()"
   ]
  },
  {
   "cell_type": "code",
   "execution_count": 20,
   "id": "c7223564",
   "metadata": {},
   "outputs": [
    {
     "data": {
      "text/plain": [
       "(8701, 7)"
      ]
     },
     "execution_count": 20,
     "metadata": {},
     "output_type": "execute_result"
    }
   ],
   "source": [
    "df.shape"
   ]
  },
  {
   "cell_type": "code",
   "execution_count": 21,
   "id": "d1551211",
   "metadata": {},
   "outputs": [
    {
     "data": {
      "text/html": [
       "<div>\n",
       "<style scoped>\n",
       "    .dataframe tbody tr th:only-of-type {\n",
       "        vertical-align: middle;\n",
       "    }\n",
       "\n",
       "    .dataframe tbody tr th {\n",
       "        vertical-align: top;\n",
       "    }\n",
       "\n",
       "    .dataframe thead th {\n",
       "        text-align: right;\n",
       "    }\n",
       "</style>\n",
       "<table border=\"1\" class=\"dataframe\">\n",
       "  <thead>\n",
       "    <tr style=\"text-align: right;\">\n",
       "      <th></th>\n",
       "      <th>isbn</th>\n",
       "      <th>book_title</th>\n",
       "      <th>book_author</th>\n",
       "      <th>year_of_publication</th>\n",
       "      <th>publisher</th>\n",
       "      <th>user_id</th>\n",
       "      <th>rating</th>\n",
       "    </tr>\n",
       "  </thead>\n",
       "  <tbody>\n",
       "    <tr>\n",
       "      <th>8696</th>\n",
       "      <td>767907566</td>\n",
       "      <td>All Elevations Unknown: An Adventure in the He...</td>\n",
       "      <td>Sam Lightner</td>\n",
       "      <td>2001</td>\n",
       "      <td>Broadway Books</td>\n",
       "      <td>278851</td>\n",
       "      <td>5</td>\n",
       "    </tr>\n",
       "    <tr>\n",
       "      <th>8697</th>\n",
       "      <td>884159221</td>\n",
       "      <td>Why stop?: A guide to Texas historical roadsid...</td>\n",
       "      <td>Claude Dooley</td>\n",
       "      <td>1985</td>\n",
       "      <td>Lone Star Books</td>\n",
       "      <td>278851</td>\n",
       "      <td>7</td>\n",
       "    </tr>\n",
       "    <tr>\n",
       "      <th>8698</th>\n",
       "      <td>912333022</td>\n",
       "      <td>The Are You Being Served? Stories: 'Camping In...</td>\n",
       "      <td>Jeremy Lloyd</td>\n",
       "      <td>1997</td>\n",
       "      <td>Kqed Books</td>\n",
       "      <td>278851</td>\n",
       "      <td>7</td>\n",
       "    </tr>\n",
       "    <tr>\n",
       "      <th>8699</th>\n",
       "      <td>1569661057</td>\n",
       "      <td>Dallas Street Map Guide and Directory, 2000 Ed...</td>\n",
       "      <td>Mapsco</td>\n",
       "      <td>1999</td>\n",
       "      <td>American Map Corporation</td>\n",
       "      <td>278851</td>\n",
       "      <td>10</td>\n",
       "    </tr>\n",
       "    <tr>\n",
       "      <th>8700</th>\n",
       "      <td>345251547</td>\n",
       "      <td>Mister God This Is Anna</td>\n",
       "      <td>Fynn</td>\n",
       "      <td>1976</td>\n",
       "      <td>Ballantine Books</td>\n",
       "      <td>277187</td>\n",
       "      <td>0</td>\n",
       "    </tr>\n",
       "  </tbody>\n",
       "</table>\n",
       "</div>"
      ],
      "text/plain": [
       "            isbn                                         book_title  \\\n",
       "8696   767907566  All Elevations Unknown: An Adventure in the He...   \n",
       "8697   884159221  Why stop?: A guide to Texas historical roadsid...   \n",
       "8698   912333022  The Are You Being Served? Stories: 'Camping In...   \n",
       "8699  1569661057  Dallas Street Map Guide and Directory, 2000 Ed...   \n",
       "8700   345251547                            Mister God This Is Anna   \n",
       "\n",
       "        book_author year_of_publication                 publisher  user_id  \\\n",
       "8696   Sam Lightner                2001            Broadway Books   278851   \n",
       "8697  Claude Dooley                1985           Lone Star Books   278851   \n",
       "8698   Jeremy Lloyd                1997                Kqed Books   278851   \n",
       "8699         Mapsco                1999  American Map Corporation   278851   \n",
       "8700           Fynn                1976          Ballantine Books   277187   \n",
       "\n",
       "      rating  \n",
       "8696       5  \n",
       "8697       7  \n",
       "8698       7  \n",
       "8699      10  \n",
       "8700       0  "
      ]
     },
     "execution_count": 21,
     "metadata": {},
     "output_type": "execute_result"
    }
   ],
   "source": [
    "df.tail()"
   ]
  },
  {
   "cell_type": "markdown",
   "id": "7f4fb61b",
   "metadata": {},
   "source": [
    "# Take a quick look at the number of unique users and books"
   ]
  },
  {
   "cell_type": "code",
   "execution_count": 22,
   "id": "20d05f29",
   "metadata": {},
   "outputs": [],
   "source": [
    "users = df['user_id'].unique()"
   ]
  },
  {
   "cell_type": "code",
   "execution_count": 23,
   "id": "0a6d4171",
   "metadata": {},
   "outputs": [
    {
     "data": {
      "text/plain": [
       "828"
      ]
     },
     "execution_count": 23,
     "metadata": {},
     "output_type": "execute_result"
    }
   ],
   "source": [
    "len(users)"
   ]
  },
  {
   "cell_type": "code",
   "execution_count": 24,
   "id": "e5d20e61",
   "metadata": {},
   "outputs": [
    {
     "name": "stdout",
     "output_type": "stream",
     "text": [
      "Number of unique user 828\n"
     ]
    }
   ],
   "source": [
    "# number of unique users\n",
    "print('Number of unique user {}'.format(len(users)))"
   ]
  },
  {
   "cell_type": "code",
   "execution_count": 25,
   "id": "9e90c88c",
   "metadata": {},
   "outputs": [
    {
     "data": {
      "text/plain": [
       "8051"
      ]
     },
     "execution_count": 25,
     "metadata": {},
     "output_type": "execute_result"
    }
   ],
   "source": [
    "books = df['isbn'].unique()\n",
    "len(books)"
   ]
  },
  {
   "cell_type": "code",
   "execution_count": 26,
   "id": "f8a02bec",
   "metadata": {},
   "outputs": [
    {
     "name": "stdout",
     "output_type": "stream",
     "text": [
      "number of uniqe books: 8051\n"
     ]
    }
   ],
   "source": [
    "# number of unique books\n",
    "print(f'number of uniqe books: {len(books)}')"
   ]
  },
  {
   "cell_type": "markdown",
   "id": "e7124a29",
   "metadata": {},
   "source": [
    "# Convert the user_id variable to numeric numbers in the correct order"
   ]
  },
  {
   "cell_type": "code",
   "execution_count": 27,
   "id": "e8627ac4",
   "metadata": {},
   "outputs": [
    {
     "name": "stdout",
     "output_type": "stream",
     "text": [
      "Number of unique user 828\n"
     ]
    }
   ],
   "source": [
    "# convert user_id into numeric order\n",
    "list_userid = df.user_id.unique()\n",
    "print('Number of unique user {}'.format(len(list_userid)))"
   ]
  },
  {
   "cell_type": "code",
   "execution_count": 28,
   "id": "3d053c53",
   "metadata": {},
   "outputs": [
    {
     "data": {
      "text/plain": [
       "array([     2,      8, 277478, 278144,      9,    243, 277711, 278418,\n",
       "           10,     12,     14, 276925, 276939, 276954, 277042, 277157,\n",
       "       277378, 277427, 277530, 277932, 278137, 278176, 278373, 278514,\n",
       "          193,    242, 277965,     16,     17,     19,     20,     22,\n",
       "       277195, 277641,     23, 276953, 277743,     26, 277722, 277744,\n",
       "           32,     36,     39,     42, 278390,     44, 278188, 277168,\n",
       "       277922, 278333,     51,     53,     56,     64,     67, 278535,\n",
       "       277689, 278221, 278843,     68,     69,     70,     73,     75,\n",
       "       278851,     77,     78,     79,     81,     82,     83,     85,\n",
       "           86,     87,     88, 277698,     91,     92, 277928,     95,\n",
       "          125,     97, 278202,     99, 276755, 277647,    102,    107,\n",
       "          109,    110,    114, 278153, 278561,    165, 277439, 278254,\n",
       "       278422,    129,    132,    133,    135, 277187,    139,    141,\n",
       "       278342,    144,    151,    160,    162, 277315, 278692,    169,\n",
       "          176,    178,    183, 277783, 277827, 277828,    185,    190,\n",
       "          199,    202,    204, 278002,    207,    212,    215,    217,\n",
       "          224,    226,    228,    230, 276796,    232, 277123,    236,\n",
       "          237,    241, 278218, 277706, 277523, 277569, 278819, 278554,\n",
       "       278633, 276746, 278026, 277246, 277517, 277901, 278075, 278723,\n",
       "       277203, 278832, 278681, 278104, 278085, 278356, 277212, 277411,\n",
       "       278257, 278586, 276994, 277803, 277958, 278541, 278800, 277413,\n",
       "       277752, 278255, 277819, 277937, 278813, 277987, 278552, 277873,\n",
       "       278798, 277197, 277816, 277462, 278350, 277629, 277363, 277959,\n",
       "       278243, 278446, 277915, 277554, 278044, 278506, 278112, 278490,\n",
       "       277639, 277196, 277563, 278487, 276986, 276847, 277938, 278185,\n",
       "       276856, 277681, 277589, 277096, 277072, 278781, 277623, 278119,\n",
       "       278172, 277466, 278014, 277229, 278525, 276822, 277051, 278469,\n",
       "       277124, 277244, 277807, 278194, 277895, 278007, 278220, 277533,\n",
       "       277904, 276929, 277984, 277884, 277562, 277048, 276866, 277962,\n",
       "       277230, 278582, 278653, 278556, 277879, 278106, 278551, 277651,\n",
       "       278522, 278503, 277898, 276998, 276988, 277945, 278361, 277513,\n",
       "       276832, 277018, 277923, 277737, 278550, 277662, 278314, 278672,\n",
       "       277903, 277598, 277143, 277954, 278346, 277764, 277109, 277469,\n",
       "       278079, 277601, 277435, 276804, 276747, 277170, 278019, 278755,\n",
       "       277888, 277997, 278409, 278641, 278500, 277171, 276754, 276964,\n",
       "       278048, 277892, 278158, 276878, 278162, 277470, 278771, 276788,\n",
       "       277257, 277036, 277756, 277798, 277837, 277817, 278483, 278773,\n",
       "       278227, 277575, 277710, 278259, 277705, 278325, 276869, 278251,\n",
       "       278543, 278107, 277107, 277436, 278524, 276984, 276800, 277619,\n",
       "       276896, 276725, 277502, 277648, 276887, 278849, 276957, 277826,\n",
       "       276875, 278131, 278439, 276798, 277375, 276848, 276936, 278492,\n",
       "       276928, 278545, 278760, 277032, 277776, 277812, 277633, 277759,\n",
       "       277778, 278663, 278854, 277765, 277808, 277506, 277529, 277790,\n",
       "       278161, 278432, 277969, 278274, 278846, 278022, 278536, 278431,\n",
       "       278054, 278307, 276838, 277508, 278197, 278122, 277235, 277794,\n",
       "       277768, 277009, 278601, 276837, 276884, 277245, 277535, 276762,\n",
       "       277237, 278139, 278644, 278645, 276989, 277453, 276888, 278216,\n",
       "       277272, 278023, 278203, 278818, 277547, 277179, 277838, 277474,\n",
       "       277261, 277525, 278698, 276828, 278024, 278401, 276811, 276904,\n",
       "       278064, 277288, 278828, 277518, 277527, 277595, 278769, 277746,\n",
       "       276862, 277434, 277556, 278542, 277840, 277253, 277114, 278520,\n",
       "       277338, 278724, 278199, 278253, 278844, 277982, 278159, 278807,\n",
       "       277087, 278056, 278782, 277293, 278100, 278571, 278836, 277894,\n",
       "       276911, 278528, 276840, 277509, 278388, 277330, 277929, 277911,\n",
       "       278263, 278774, 277691, 277712, 276889, 278160, 277231, 277471,\n",
       "       277568, 278796, 278264, 277364, 277814, 277823, 277844, 278732,\n",
       "       278411, 277660, 278563, 278778, 277183, 278795, 278568, 276744,\n",
       "       277094, 277761, 278200, 276872, 277775, 277769, 278181, 277835,\n",
       "       278008, 277727, 276997, 277139, 277408, 277919, 276859, 276861,\n",
       "       276727, 277588, 276850, 277989, 277265, 277913, 277135, 277801,\n",
       "       277228, 278396, 277532, 278565, 278270, 278111, 277802, 278096,\n",
       "       277975, 278648, 277696, 277116, 277841, 278212, 278249, 277795,\n",
       "       278740, 278461, 277921, 276830, 277165, 277748, 277397, 278820,\n",
       "       278488, 276814, 277627, 278465, 277791, 278184, 278246, 278767,\n",
       "       278012, 278533, 278838, 278120, 278452, 277781, 277811, 277012,\n",
       "       278825, 277220, 278652, 278435, 277793, 277845, 277700, 278569,\n",
       "       277155, 278694, 277142, 278824, 278300, 277314, 277374, 278345,\n",
       "       278095, 277240, 278475, 278540, 277586, 278534, 278683, 278675,\n",
       "       278637, 277877, 277291, 277565, 277284, 278784, 277473, 278669,\n",
       "       278148, 277341, 277682, 278539, 277281, 277243, 278238, 277560,\n",
       "       277035, 278831, 276916, 276772, 278668, 277998, 277285, 277882,\n",
       "       276780, 276813, 277400, 277825, 277777, 276852, 277728, 278365,\n",
       "       277779, 277405, 277579, 277787, 277028, 278772, 278279, 278140,\n",
       "       278336, 277665, 277788, 277053, 278479, 277740, 278512, 276751,\n",
       "       277864, 276820, 277424, 277317, 277040, 277908, 277786, 277610,\n",
       "       277189, 277292, 278400, 277402, 277526, 276808, 277632, 278156,\n",
       "       278319, 277799, 277188, 278466, 277809, 278297, 278474, 278786,\n",
       "       277085, 276854, 277842, 278155, 278209, 277186, 277548, 277992,\n",
       "       277701, 278377, 278224, 278110, 277646, 278357, 278510, 278515,\n",
       "       278715, 278529, 278750, 277594, 278501, 277367, 278394, 278302,\n",
       "       278462, 278213, 278721, 278459, 276817, 278177, 277205, 277832,\n",
       "       277720, 276774, 276975, 277486, 278328, 278117, 276915, 278089,\n",
       "       278364, 276905, 277340, 277271, 277010, 277622, 277544, 278092,\n",
       "       278449, 277348, 278852, 277800, 277636, 278597, 277128, 278815,\n",
       "       277457, 277432, 278280, 277782, 278650, 277930, 277065, 277596,\n",
       "       277056, 277833, 277519, 278021, 277353, 278245, 277444, 277820,\n",
       "       278634, 276890, 278620, 277019, 278058, 278355, 278250, 277134,\n",
       "       277343, 278398, 277813, 277824, 277797, 278777, 278752, 278615,\n",
       "       278444, 277891, 278720, 277650, 276833, 278573, 278030, 278070,\n",
       "       277909, 278043, 276786, 278207, 277687, 278710, 277946, 277843,\n",
       "       276748, 277830, 276733, 278167, 277031, 277714, 278063, 277242,\n",
       "       278069, 278665, 277351, 278759, 278204, 278149, 276853, 277488,\n",
       "       278789, 277818, 278193, 277964, 278538, 278531, 277918, 278316,\n",
       "       278458, 278244, 277585, 278450, 277697, 278334, 277767, 277359,\n",
       "       278368, 278559, 277180, 278389, 277073, 278020, 278537, 276963,\n",
       "       277996, 278378, 278491, 277389, 278358, 277978, 277023, 277774,\n",
       "       278235, 278168, 278610, 278788, 278731, 277953, 277274, 277988,\n",
       "       278065, 278215, 276726, 278311, 278074, 277269, 278094, 278017,\n",
       "       278747, 277256, 276729, 276835, 276912, 276927, 276949, 276950,\n",
       "       277002, 277079, 277262, 277379, 277380, 277388, 277433, 277479,\n",
       "       277514, 277528, 277538, 277559, 277574, 277605, 277657, 277680,\n",
       "       277784, 277831, 277834, 277872, 278009, 278034, 278066, 278098,\n",
       "       278183, 278237, 278248, 278260, 278330, 278376, 278621, 278636,\n",
       "       278659, 278713, 278714, 278729], dtype=int64)"
      ]
     },
     "execution_count": 28,
     "metadata": {},
     "output_type": "execute_result"
    }
   ],
   "source": [
    "list_userid"
   ]
  },
  {
   "cell_type": "code",
   "execution_count": 29,
   "id": "caee61c2",
   "metadata": {},
   "outputs": [],
   "source": [
    "#ind = np.where(df.index==8696)[0]\n",
    "#type(ind)"
   ]
  },
  {
   "cell_type": "code",
   "execution_count": 35,
   "id": "a40b54d6",
   "metadata": {},
   "outputs": [],
   "source": [
    "def user_id_num(user_id):\n",
    "    itemindex = np.where(list_userid==user_id)\n",
    "    return itemindex[0][0]"
   ]
  },
  {
   "cell_type": "code",
   "execution_count": 36,
   "id": "b181c2a0",
   "metadata": {},
   "outputs": [],
   "source": [
    "list_isbn = df.isbn.unique()"
   ]
  },
  {
   "cell_type": "code",
   "execution_count": 37,
   "id": "5f7afd62",
   "metadata": {},
   "outputs": [
    {
     "name": "stdout",
     "output_type": "stream",
     "text": [
      "length of isbn unique values: 8051\n"
     ]
    }
   ],
   "source": [
    "print('length of isbn unique values: {}'.format(len(list_isbn)))"
   ]
  },
  {
   "cell_type": "code",
   "execution_count": 38,
   "id": "d680ee23",
   "metadata": {},
   "outputs": [],
   "source": [
    "def isbn_num(isbn):\n",
    "    itemindex = np.where(list_isbn==isbn)\n",
    "    return itemindex[0][0]"
   ]
  },
  {
   "cell_type": "markdown",
   "id": "b1ec1984",
   "metadata": {},
   "source": [
    "# Convert both user_id and ISBN to the ordered list, i.e., from 0...n-1"
   ]
  },
  {
   "cell_type": "code",
   "execution_count": 39,
   "id": "9913f694",
   "metadata": {},
   "outputs": [],
   "source": [
    "df['user_id_order'] = df['user_id'].apply(user_id_num)"
   ]
  },
  {
   "cell_type": "code",
   "execution_count": 40,
   "id": "e99b45b3",
   "metadata": {},
   "outputs": [],
   "source": [
    "df['isbn_order'] = df['isbn'].apply(isbn_num)"
   ]
  },
  {
   "cell_type": "code",
   "execution_count": 41,
   "id": "4c710ed5",
   "metadata": {},
   "outputs": [
    {
     "data": {
      "text/html": [
       "<div>\n",
       "<style scoped>\n",
       "    .dataframe tbody tr th:only-of-type {\n",
       "        vertical-align: middle;\n",
       "    }\n",
       "\n",
       "    .dataframe tbody tr th {\n",
       "        vertical-align: top;\n",
       "    }\n",
       "\n",
       "    .dataframe thead th {\n",
       "        text-align: right;\n",
       "    }\n",
       "</style>\n",
       "<table border=\"1\" class=\"dataframe\">\n",
       "  <thead>\n",
       "    <tr style=\"text-align: right;\">\n",
       "      <th></th>\n",
       "      <th>isbn</th>\n",
       "      <th>book_title</th>\n",
       "      <th>book_author</th>\n",
       "      <th>year_of_publication</th>\n",
       "      <th>publisher</th>\n",
       "      <th>user_id</th>\n",
       "      <th>rating</th>\n",
       "      <th>user_id_order</th>\n",
       "      <th>isbn_order</th>\n",
       "    </tr>\n",
       "  </thead>\n",
       "  <tbody>\n",
       "    <tr>\n",
       "      <th>0</th>\n",
       "      <td>195153448</td>\n",
       "      <td>Classical Mythology</td>\n",
       "      <td>Mark P. O. Morford</td>\n",
       "      <td>2002</td>\n",
       "      <td>Oxford University Press</td>\n",
       "      <td>2</td>\n",
       "      <td>0</td>\n",
       "      <td>0</td>\n",
       "      <td>0</td>\n",
       "    </tr>\n",
       "    <tr>\n",
       "      <th>1</th>\n",
       "      <td>2005018</td>\n",
       "      <td>Clara Callan</td>\n",
       "      <td>Richard Bruce Wright</td>\n",
       "      <td>2001</td>\n",
       "      <td>HarperFlamingo Canada</td>\n",
       "      <td>8</td>\n",
       "      <td>5</td>\n",
       "      <td>1</td>\n",
       "      <td>1</td>\n",
       "    </tr>\n",
       "    <tr>\n",
       "      <th>2</th>\n",
       "      <td>60973129</td>\n",
       "      <td>Decision in Normandy</td>\n",
       "      <td>Carlo D'Este</td>\n",
       "      <td>1991</td>\n",
       "      <td>HarperPerennial</td>\n",
       "      <td>8</td>\n",
       "      <td>0</td>\n",
       "      <td>1</td>\n",
       "      <td>2</td>\n",
       "    </tr>\n",
       "    <tr>\n",
       "      <th>3</th>\n",
       "      <td>374157065</td>\n",
       "      <td>Flu: The Story of the Great Influenza Pandemic...</td>\n",
       "      <td>Gina Bari Kolata</td>\n",
       "      <td>1999</td>\n",
       "      <td>Farrar Straus Giroux</td>\n",
       "      <td>8</td>\n",
       "      <td>0</td>\n",
       "      <td>1</td>\n",
       "      <td>3</td>\n",
       "    </tr>\n",
       "    <tr>\n",
       "      <th>4</th>\n",
       "      <td>393045218</td>\n",
       "      <td>The Mummies of Urumchi</td>\n",
       "      <td>E. J. W. Barber</td>\n",
       "      <td>1999</td>\n",
       "      <td>W. W. Norton &amp;amp; Company</td>\n",
       "      <td>8</td>\n",
       "      <td>0</td>\n",
       "      <td>1</td>\n",
       "      <td>4</td>\n",
       "    </tr>\n",
       "    <tr>\n",
       "      <th>...</th>\n",
       "      <td>...</td>\n",
       "      <td>...</td>\n",
       "      <td>...</td>\n",
       "      <td>...</td>\n",
       "      <td>...</td>\n",
       "      <td>...</td>\n",
       "      <td>...</td>\n",
       "      <td>...</td>\n",
       "      <td>...</td>\n",
       "    </tr>\n",
       "    <tr>\n",
       "      <th>8696</th>\n",
       "      <td>767907566</td>\n",
       "      <td>All Elevations Unknown: An Adventure in the He...</td>\n",
       "      <td>Sam Lightner</td>\n",
       "      <td>2001</td>\n",
       "      <td>Broadway Books</td>\n",
       "      <td>278851</td>\n",
       "      <td>5</td>\n",
       "      <td>64</td>\n",
       "      <td>8046</td>\n",
       "    </tr>\n",
       "    <tr>\n",
       "      <th>8697</th>\n",
       "      <td>884159221</td>\n",
       "      <td>Why stop?: A guide to Texas historical roadsid...</td>\n",
       "      <td>Claude Dooley</td>\n",
       "      <td>1985</td>\n",
       "      <td>Lone Star Books</td>\n",
       "      <td>278851</td>\n",
       "      <td>7</td>\n",
       "      <td>64</td>\n",
       "      <td>8047</td>\n",
       "    </tr>\n",
       "    <tr>\n",
       "      <th>8698</th>\n",
       "      <td>912333022</td>\n",
       "      <td>The Are You Being Served? Stories: 'Camping In...</td>\n",
       "      <td>Jeremy Lloyd</td>\n",
       "      <td>1997</td>\n",
       "      <td>Kqed Books</td>\n",
       "      <td>278851</td>\n",
       "      <td>7</td>\n",
       "      <td>64</td>\n",
       "      <td>8048</td>\n",
       "    </tr>\n",
       "    <tr>\n",
       "      <th>8699</th>\n",
       "      <td>1569661057</td>\n",
       "      <td>Dallas Street Map Guide and Directory, 2000 Ed...</td>\n",
       "      <td>Mapsco</td>\n",
       "      <td>1999</td>\n",
       "      <td>American Map Corporation</td>\n",
       "      <td>278851</td>\n",
       "      <td>10</td>\n",
       "      <td>64</td>\n",
       "      <td>8049</td>\n",
       "    </tr>\n",
       "    <tr>\n",
       "      <th>8700</th>\n",
       "      <td>345251547</td>\n",
       "      <td>Mister God This Is Anna</td>\n",
       "      <td>Fynn</td>\n",
       "      <td>1976</td>\n",
       "      <td>Ballantine Books</td>\n",
       "      <td>277187</td>\n",
       "      <td>0</td>\n",
       "      <td>101</td>\n",
       "      <td>8050</td>\n",
       "    </tr>\n",
       "  </tbody>\n",
       "</table>\n",
       "<p>8701 rows × 9 columns</p>\n",
       "</div>"
      ],
      "text/plain": [
       "            isbn                                         book_title  \\\n",
       "0      195153448                                Classical Mythology   \n",
       "1        2005018                                       Clara Callan   \n",
       "2       60973129                               Decision in Normandy   \n",
       "3      374157065  Flu: The Story of the Great Influenza Pandemic...   \n",
       "4      393045218                             The Mummies of Urumchi   \n",
       "...          ...                                                ...   \n",
       "8696   767907566  All Elevations Unknown: An Adventure in the He...   \n",
       "8697   884159221  Why stop?: A guide to Texas historical roadsid...   \n",
       "8698   912333022  The Are You Being Served? Stories: 'Camping In...   \n",
       "8699  1569661057  Dallas Street Map Guide and Directory, 2000 Ed...   \n",
       "8700   345251547                            Mister God This Is Anna   \n",
       "\n",
       "               book_author year_of_publication                   publisher  \\\n",
       "0       Mark P. O. Morford                2002     Oxford University Press   \n",
       "1     Richard Bruce Wright                2001       HarperFlamingo Canada   \n",
       "2             Carlo D'Este                1991             HarperPerennial   \n",
       "3         Gina Bari Kolata                1999        Farrar Straus Giroux   \n",
       "4          E. J. W. Barber                1999  W. W. Norton &amp; Company   \n",
       "...                    ...                 ...                         ...   \n",
       "8696          Sam Lightner                2001              Broadway Books   \n",
       "8697         Claude Dooley                1985             Lone Star Books   \n",
       "8698          Jeremy Lloyd                1997                  Kqed Books   \n",
       "8699                Mapsco                1999    American Map Corporation   \n",
       "8700                  Fynn                1976            Ballantine Books   \n",
       "\n",
       "      user_id  rating  user_id_order  isbn_order  \n",
       "0           2       0              0           0  \n",
       "1           8       5              1           1  \n",
       "2           8       0              1           2  \n",
       "3           8       0              1           3  \n",
       "4           8       0              1           4  \n",
       "...       ...     ...            ...         ...  \n",
       "8696   278851       5             64        8046  \n",
       "8697   278851       7             64        8047  \n",
       "8698   278851       7             64        8048  \n",
       "8699   278851      10             64        8049  \n",
       "8700   277187       0            101        8050  \n",
       "\n",
       "[8701 rows x 9 columns]"
      ]
     },
     "execution_count": 41,
     "metadata": {},
     "output_type": "execute_result"
    }
   ],
   "source": [
    "df"
   ]
  },
  {
   "cell_type": "markdown",
   "id": "13176328",
   "metadata": {},
   "source": [
    "# Re-index the columns to build a matrix"
   ]
  },
  {
   "cell_type": "code",
   "execution_count": 42,
   "id": "e9b7c005",
   "metadata": {},
   "outputs": [],
   "source": [
    "ordered_col = ['user_id_order', 'isbn_order', 'rating', 'book_title', 'book_author', 'year_of_publication','publisher',\n",
    "               'user_id', 'isbn']\n",
    "df = df.reindex(columns=ordered_col)"
   ]
  },
  {
   "cell_type": "code",
   "execution_count": 43,
   "id": "ce58eaf8",
   "metadata": {},
   "outputs": [
    {
     "data": {
      "text/html": [
       "<div>\n",
       "<style scoped>\n",
       "    .dataframe tbody tr th:only-of-type {\n",
       "        vertical-align: middle;\n",
       "    }\n",
       "\n",
       "    .dataframe tbody tr th {\n",
       "        vertical-align: top;\n",
       "    }\n",
       "\n",
       "    .dataframe thead th {\n",
       "        text-align: right;\n",
       "    }\n",
       "</style>\n",
       "<table border=\"1\" class=\"dataframe\">\n",
       "  <thead>\n",
       "    <tr style=\"text-align: right;\">\n",
       "      <th></th>\n",
       "      <th>user_id_order</th>\n",
       "      <th>isbn_order</th>\n",
       "      <th>rating</th>\n",
       "      <th>book_title</th>\n",
       "      <th>book_author</th>\n",
       "      <th>year_of_publication</th>\n",
       "      <th>publisher</th>\n",
       "      <th>user_id</th>\n",
       "      <th>isbn</th>\n",
       "    </tr>\n",
       "  </thead>\n",
       "  <tbody>\n",
       "    <tr>\n",
       "      <th>0</th>\n",
       "      <td>0</td>\n",
       "      <td>0</td>\n",
       "      <td>0</td>\n",
       "      <td>Classical Mythology</td>\n",
       "      <td>Mark P. O. Morford</td>\n",
       "      <td>2002</td>\n",
       "      <td>Oxford University Press</td>\n",
       "      <td>2</td>\n",
       "      <td>195153448</td>\n",
       "    </tr>\n",
       "    <tr>\n",
       "      <th>1</th>\n",
       "      <td>1</td>\n",
       "      <td>1</td>\n",
       "      <td>5</td>\n",
       "      <td>Clara Callan</td>\n",
       "      <td>Richard Bruce Wright</td>\n",
       "      <td>2001</td>\n",
       "      <td>HarperFlamingo Canada</td>\n",
       "      <td>8</td>\n",
       "      <td>2005018</td>\n",
       "    </tr>\n",
       "    <tr>\n",
       "      <th>2</th>\n",
       "      <td>1</td>\n",
       "      <td>2</td>\n",
       "      <td>0</td>\n",
       "      <td>Decision in Normandy</td>\n",
       "      <td>Carlo D'Este</td>\n",
       "      <td>1991</td>\n",
       "      <td>HarperPerennial</td>\n",
       "      <td>8</td>\n",
       "      <td>60973129</td>\n",
       "    </tr>\n",
       "    <tr>\n",
       "      <th>3</th>\n",
       "      <td>1</td>\n",
       "      <td>3</td>\n",
       "      <td>0</td>\n",
       "      <td>Flu: The Story of the Great Influenza Pandemic...</td>\n",
       "      <td>Gina Bari Kolata</td>\n",
       "      <td>1999</td>\n",
       "      <td>Farrar Straus Giroux</td>\n",
       "      <td>8</td>\n",
       "      <td>374157065</td>\n",
       "    </tr>\n",
       "    <tr>\n",
       "      <th>4</th>\n",
       "      <td>1</td>\n",
       "      <td>4</td>\n",
       "      <td>0</td>\n",
       "      <td>The Mummies of Urumchi</td>\n",
       "      <td>E. J. W. Barber</td>\n",
       "      <td>1999</td>\n",
       "      <td>W. W. Norton &amp;amp; Company</td>\n",
       "      <td>8</td>\n",
       "      <td>393045218</td>\n",
       "    </tr>\n",
       "  </tbody>\n",
       "</table>\n",
       "</div>"
      ],
      "text/plain": [
       "   user_id_order  isbn_order  rating  \\\n",
       "0              0           0       0   \n",
       "1              1           1       5   \n",
       "2              1           2       0   \n",
       "3              1           3       0   \n",
       "4              1           4       0   \n",
       "\n",
       "                                          book_title           book_author  \\\n",
       "0                                Classical Mythology    Mark P. O. Morford   \n",
       "1                                       Clara Callan  Richard Bruce Wright   \n",
       "2                               Decision in Normandy          Carlo D'Este   \n",
       "3  Flu: The Story of the Great Influenza Pandemic...      Gina Bari Kolata   \n",
       "4                             The Mummies of Urumchi       E. J. W. Barber   \n",
       "\n",
       "  year_of_publication                   publisher  user_id       isbn  \n",
       "0                2002     Oxford University Press        2  195153448  \n",
       "1                2001       HarperFlamingo Canada        8    2005018  \n",
       "2                1991             HarperPerennial        8   60973129  \n",
       "3                1999        Farrar Straus Giroux        8  374157065  \n",
       "4                1999  W. W. Norton &amp; Company        8  393045218  "
      ]
     },
     "execution_count": 43,
     "metadata": {},
     "output_type": "execute_result"
    }
   ],
   "source": [
    "df.head()"
   ]
  },
  {
   "cell_type": "markdown",
   "id": "aa57632a",
   "metadata": {},
   "source": [
    "# Split your data into two sets (training and testing)"
   ]
  },
  {
   "cell_type": "code",
   "execution_count": 44,
   "id": "106ac751",
   "metadata": {},
   "outputs": [],
   "source": [
    "from sklearn.model_selection import train_test_split\n",
    "train, test = train_test_split(df,test_size=0.30,random_state=10)"
   ]
  },
  {
   "cell_type": "code",
   "execution_count": 45,
   "id": "727cc24c",
   "metadata": {},
   "outputs": [
    {
     "data": {
      "text/plain": [
       "(6090, 9)"
      ]
     },
     "execution_count": 45,
     "metadata": {},
     "output_type": "execute_result"
    }
   ],
   "source": [
    "train.shape"
   ]
  },
  {
   "cell_type": "code",
   "execution_count": 46,
   "id": "7b130ba1",
   "metadata": {},
   "outputs": [
    {
     "data": {
      "text/html": [
       "<div>\n",
       "<style scoped>\n",
       "    .dataframe tbody tr th:only-of-type {\n",
       "        vertical-align: middle;\n",
       "    }\n",
       "\n",
       "    .dataframe tbody tr th {\n",
       "        vertical-align: top;\n",
       "    }\n",
       "\n",
       "    .dataframe thead th {\n",
       "        text-align: right;\n",
       "    }\n",
       "</style>\n",
       "<table border=\"1\" class=\"dataframe\">\n",
       "  <thead>\n",
       "    <tr style=\"text-align: right;\">\n",
       "      <th></th>\n",
       "      <th>user_id_order</th>\n",
       "      <th>isbn_order</th>\n",
       "      <th>rating</th>\n",
       "      <th>book_title</th>\n",
       "      <th>book_author</th>\n",
       "      <th>year_of_publication</th>\n",
       "      <th>publisher</th>\n",
       "      <th>user_id</th>\n",
       "      <th>isbn</th>\n",
       "    </tr>\n",
       "  </thead>\n",
       "  <tbody>\n",
       "    <tr>\n",
       "      <th>7794</th>\n",
       "      <td>7</td>\n",
       "      <td>7145</td>\n",
       "      <td>0</td>\n",
       "      <td>The Iceberg and It's Shadow</td>\n",
       "      <td>Jan Greenberg</td>\n",
       "      <td>1989</td>\n",
       "      <td>Farrar Straus &amp;amp; Giroux</td>\n",
       "      <td>278418</td>\n",
       "      <td>374435502</td>\n",
       "    </tr>\n",
       "    <tr>\n",
       "      <th>5451</th>\n",
       "      <td>7</td>\n",
       "      <td>4822</td>\n",
       "      <td>0</td>\n",
       "      <td>Zen and the City of Angels</td>\n",
       "      <td>Elizabeth M. Cosin</td>\n",
       "      <td>1999</td>\n",
       "      <td>St. Martin's Press</td>\n",
       "      <td>278418</td>\n",
       "      <td>312206119</td>\n",
       "    </tr>\n",
       "    <tr>\n",
       "      <th>8288</th>\n",
       "      <td>7</td>\n",
       "      <td>7638</td>\n",
       "      <td>0</td>\n",
       "      <td>Microsoft Mastering - Ecommerce Development: B...</td>\n",
       "      <td>Microsoft Corporation</td>\n",
       "      <td>1999</td>\n",
       "      <td>Microsoft Pr</td>\n",
       "      <td>278418</td>\n",
       "      <td>735608911</td>\n",
       "    </tr>\n",
       "    <tr>\n",
       "      <th>2853</th>\n",
       "      <td>396</td>\n",
       "      <td>2303</td>\n",
       "      <td>9</td>\n",
       "      <td>A House for Mr. Biswas</td>\n",
       "      <td>V. S. Naipaul</td>\n",
       "      <td>2001</td>\n",
       "      <td>Vintage Books USA</td>\n",
       "      <td>277527</td>\n",
       "      <td>375707166</td>\n",
       "    </tr>\n",
       "    <tr>\n",
       "      <th>5348</th>\n",
       "      <td>7</td>\n",
       "      <td>4719</td>\n",
       "      <td>0</td>\n",
       "      <td>Batman Returns: The Novelization</td>\n",
       "      <td>Craig Shaw Gardner</td>\n",
       "      <td>1992</td>\n",
       "      <td>Warner Books</td>\n",
       "      <td>278418</td>\n",
       "      <td>446363030</td>\n",
       "    </tr>\n",
       "  </tbody>\n",
       "</table>\n",
       "</div>"
      ],
      "text/plain": [
       "      user_id_order  isbn_order  rating  \\\n",
       "7794              7        7145       0   \n",
       "5451              7        4822       0   \n",
       "8288              7        7638       0   \n",
       "2853            396        2303       9   \n",
       "5348              7        4719       0   \n",
       "\n",
       "                                             book_title  \\\n",
       "7794                        The Iceberg and It's Shadow   \n",
       "5451                         Zen and the City of Angels   \n",
       "8288  Microsoft Mastering - Ecommerce Development: B...   \n",
       "2853                             A House for Mr. Biswas   \n",
       "5348                   Batman Returns: The Novelization   \n",
       "\n",
       "                book_author year_of_publication                   publisher  \\\n",
       "7794          Jan Greenberg                1989  Farrar Straus &amp; Giroux   \n",
       "5451     Elizabeth M. Cosin                1999          St. Martin's Press   \n",
       "8288  Microsoft Corporation                1999                Microsoft Pr   \n",
       "2853          V. S. Naipaul                2001           Vintage Books USA   \n",
       "5348     Craig Shaw Gardner                1992                Warner Books   \n",
       "\n",
       "      user_id       isbn  \n",
       "7794   278418  374435502  \n",
       "5451   278418  312206119  \n",
       "8288   278418  735608911  \n",
       "2853   277527  375707166  \n",
       "5348   278418  446363030  "
      ]
     },
     "execution_count": 46,
     "metadata": {},
     "output_type": "execute_result"
    }
   ],
   "source": [
    "test.head()"
   ]
  },
  {
   "cell_type": "code",
   "execution_count": 47,
   "id": "2e4f17fc",
   "metadata": {},
   "outputs": [
    {
     "data": {
      "text/plain": [
       "(2611, 9)"
      ]
     },
     "execution_count": 47,
     "metadata": {},
     "output_type": "execute_result"
    }
   ],
   "source": [
    "test.shape"
   ]
  },
  {
   "cell_type": "markdown",
   "id": "e87efbb1",
   "metadata": {},
   "source": [
    "# Make predictions based on user and item variables"
   ]
  },
  {
   "cell_type": "code",
   "execution_count": 53,
   "id": "134d95b8",
   "metadata": {},
   "outputs": [],
   "source": [
    "train_matrix = np.zeros((len(users), len(books)))\n",
    "for line in train.itertuples():\n",
    "    train_matrix[line[1]-1, line[2]-1]=line[3]\n",
    "\n",
    "test_matrix = np.zeros((len(users), len(books)))\n",
    "for line in test.itertuples():\n",
    "    test_matrix[line[1]-1, line[2]-1]=line[3]"
   ]
  },
  {
   "cell_type": "code",
   "execution_count": 108,
   "id": "4702bf47",
   "metadata": {},
   "outputs": [],
   "source": [
    "from sklearn.metrics.pairwise import pairwise_distances\n",
    "user_correlation = pairwise_distances(train_matrix,metric='cosine')\n",
    "item_correlation = pairwise_distances(train_matrix.T,metric='cosine')"
   ]
  },
  {
   "cell_type": "code",
   "execution_count": 110,
   "id": "5e87777a",
   "metadata": {},
   "outputs": [
    {
     "data": {
      "text/plain": [
       "(8051, 8051)"
      ]
     },
     "execution_count": 110,
     "metadata": {},
     "output_type": "execute_result"
    }
   ],
   "source": [
    "item_correlation.shape"
   ]
  },
  {
   "cell_type": "code",
   "execution_count": 111,
   "id": "db49e83c",
   "metadata": {},
   "outputs": [
    {
     "data": {
      "text/plain": [
       "array([[0., 1., 1., ..., 1., 1., 1.],\n",
       "       [1., 0., 1., ..., 1., 1., 1.],\n",
       "       [1., 1., 0., ..., 1., 1., 1.],\n",
       "       ...,\n",
       "       [1., 1., 1., ..., 0., 1., 1.],\n",
       "       [1., 1., 1., ..., 1., 0., 1.],\n",
       "       [1., 1., 1., ..., 1., 1., 0.]])"
      ]
     },
     "execution_count": 111,
     "metadata": {},
     "output_type": "execute_result"
    }
   ],
   "source": [
    "user_correlation"
   ]
  },
  {
   "cell_type": "code",
   "execution_count": 112,
   "id": "78c68b7a",
   "metadata": {},
   "outputs": [
    {
     "data": {
      "text/plain": [
       "(828, 8051)"
      ]
     },
     "execution_count": 112,
     "metadata": {},
     "output_type": "execute_result"
    }
   ],
   "source": [
    "train_matrix.shape"
   ]
  },
  {
   "cell_type": "code",
   "execution_count": 113,
   "id": "064e14fe",
   "metadata": {},
   "outputs": [],
   "source": [
    "def predict(ratings,correlation,type='user'):\n",
    "    if type == 'user':\n",
    "        mean_user_rating = ratings.mean(axis=1)\n",
    "        rating_diff = (ratings - mean_user_rating[:,np.newaxis])\n",
    "        pred = mean_user_rating[:,np.newaxis]+correlation.dot(rating_diff)/np.array([np.abs(correlation).sum(axis=1)]).T\n",
    "    elif type=='item':\n",
    "        pred = ratings.dot(correlation) / np.array([np.abs(correlation).sum(axis=1)])\n",
    "    return pred"
   ]
  },
  {
   "cell_type": "code",
   "execution_count": 114,
   "id": "c888f0e5",
   "metadata": {},
   "outputs": [],
   "source": [
    "user_pred = predict(train_matrix,user_correlation,type='user')"
   ]
  },
  {
   "cell_type": "code",
   "execution_count": 115,
   "id": "2734e2ad",
   "metadata": {},
   "outputs": [
    {
     "data": {
      "text/plain": [
       "(828, 8051)"
      ]
     },
     "execution_count": 115,
     "metadata": {},
     "output_type": "execute_result"
    }
   ],
   "source": [
    "user_pred.shape"
   ]
  },
  {
   "cell_type": "code",
   "execution_count": 116,
   "id": "62dc529e",
   "metadata": {},
   "outputs": [],
   "source": [
    "item_pred = predict(train_matrix,item_correlation.T,type = 'item')"
   ]
  },
  {
   "cell_type": "code",
   "execution_count": 117,
   "id": "f3a7f183",
   "metadata": {},
   "outputs": [
    {
     "data": {
      "text/plain": [
       "(8051, 828)"
      ]
     },
     "execution_count": 117,
     "metadata": {},
     "output_type": "execute_result"
    }
   ],
   "source": [
    "item_pred.T.shape"
   ]
  },
  {
   "cell_type": "markdown",
   "id": "0f768714",
   "metadata": {},
   "source": [
    "# Use RMSE to evaluate the predictions"
   ]
  },
  {
   "cell_type": "code",
   "execution_count": 118,
   "id": "e1809275",
   "metadata": {},
   "outputs": [],
   "source": [
    "from sklearn.metrics import mean_squared_error\n",
    "from math import sqrt\n",
    "def rmse(prediction, ground_truth):\n",
    "    prediction = prediction[ground_truth.nonzero()].flatten() \n",
    "    ground_truth = ground_truth[ground_truth.nonzero()].flatten()\n",
    "    return sqrt(mean_squared_error(prediction, ground_truth))"
   ]
  },
  {
   "cell_type": "code",
   "execution_count": 119,
   "id": "d1d3669a",
   "metadata": {},
   "outputs": [
    {
     "name": "stdout",
     "output_type": "stream",
     "text": [
      "user-based CF RMSE7.72185541212063\n"
     ]
    }
   ],
   "source": [
    "print('user-based CF RMSE' + str(rmse(user_pred,test_matrix)))"
   ]
  },
  {
   "cell_type": "code",
   "execution_count": 120,
   "id": "1501d3d8",
   "metadata": {},
   "outputs": [
    {
     "name": "stdout",
     "output_type": "stream",
     "text": [
      "user-based CF RMSE7.721162031094573\n"
     ]
    }
   ],
   "source": [
    "print('user-based CF RMSE' + str(rmse(item_pred,test_matrix)))"
   ]
  },
  {
   "cell_type": "code",
   "execution_count": null,
   "id": "4e78d014",
   "metadata": {},
   "outputs": [],
   "source": []
  }
 ],
 "metadata": {
  "kernelspec": {
   "display_name": "Python 3 (ipykernel)",
   "language": "python",
   "name": "python3"
  },
  "language_info": {
   "codemirror_mode": {
    "name": "ipython",
    "version": 3
   },
   "file_extension": ".py",
   "mimetype": "text/x-python",
   "name": "python",
   "nbconvert_exporter": "python",
   "pygments_lexer": "ipython3",
   "version": "3.10.9"
  }
 },
 "nbformat": 4,
 "nbformat_minor": 5
}
